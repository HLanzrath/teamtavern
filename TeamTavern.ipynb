{
 "cells": [
  {
   "cell_type": "code",
   "execution_count": 41,
   "metadata": {},
   "outputs": [],
   "source": [
    "import numpy as np\n",
    "import time\n",
    "from termcolor import cprint\n",
    "from pyfiglet import figlet_format"
   ]
  },
  {
   "cell_type": "code",
   "execution_count": 42,
   "metadata": {},
   "outputs": [],
   "source": [
    "def wheretogo():\n",
    "    dice=np.random.randint(1,7)\n",
    "    if dice%2==0:\n",
    "        cprint(figlet_format(\"Prepare for trouble.\", font='roman'),'red', attrs=['bold'])\n",
    "        time.sleep(2)\n",
    "        cprint(figlet_format(\"And make it double.\", font='roman'),'blue', attrs=['bold'])\n",
    "    else:\n",
    "        cprint(figlet_format('Taverne!', font='doh'),'red', attrs=['bold'])\n"
   ]
  },
  {
   "cell_type": "code",
   "execution_count": 53,
   "metadata": {},
   "outputs": [
    {
     "name": "stdout",
     "output_type": "stream",
     "text": [
      "\u001b[1m\u001b[31mooooooooo.                                                              \n",
      "`888   `Y88.                                                            \n",
      " 888   .d88' oooo d8b  .ooooo.  oo.ooooo.   .oooo.   oooo d8b  .ooooo.  \n",
      " 888ooo88P'  `888\"\"8P d88' `88b  888' `88b `P  )88b  `888\"\"8P d88' `88b \n",
      " 888          888     888ooo888  888   888  .oP\"888   888     888ooo888 \n",
      " 888          888     888    .o  888   888 d8(  888   888     888    .o \n",
      "o888o        d888b    `Y8bod8P'  888bod8P' `Y888\"\"8o d888b    `Y8bod8P' \n",
      "                                 888                                    \n",
      "                                o888o                                   \n",
      "                                                                        \n",
      " .o88o.                    \n",
      " 888 `\"                    \n",
      "o888oo   .ooooo.  oooo d8b \n",
      " 888    d88' `88b `888\"\"8P \n",
      " 888    888   888  888     \n",
      " 888    888   888  888     \n",
      "o888o   `Y8bod8P' d888b    \n",
      "                           \n",
      "                           \n",
      "                           \n",
      "    .                                   .o8       oooo                \n",
      "  .o8                                  \"888       `888                \n",
      ".o888oo oooo d8b  .ooooo.  oooo  oooo   888oooo.   888   .ooooo.      \n",
      "  888   `888\"\"8P d88' `88b `888  `888   d88' `88b  888  d88' `88b     \n",
      "  888    888     888   888  888   888   888   888  888  888ooo888     \n",
      "  888 .  888     888   888  888   888   888   888  888  888    .o .o. \n",
      "  \"888\" d888b    `Y8bod8P'  `V88V\"V8P'  `Y8bod8P' o888o `Y8bod8P' Y8P \n",
      "                                                                      \n",
      "                                                                      \n",
      "                                                                      \n",
      "\u001b[0m\n",
      "\u001b[1m\u001b[34m      .o.                         .o8  \n",
      "     .888.                       \"888  \n",
      "    .8\"888.     ooo. .oo.    .oooo888  \n",
      "   .8' `888.    `888P\"Y88b  d88' `888  \n",
      "  .88ooo8888.    888   888  888   888  \n",
      " .8'     `888.   888   888  888   888  \n",
      "o88o     o8888o o888o o888o `Y8bod88P\" \n",
      "                                       \n",
      "                                       \n",
      "                                       \n",
      "                            oooo                      o8o      .   \n",
      "                            `888                      `\"'    .o8   \n",
      "ooo. .oo.  .oo.    .oooo.    888  oooo   .ooooo.     oooo  .o888oo \n",
      "`888P\"Y88bP\"Y88b  `P  )88b   888 .8P'   d88' `88b    `888    888   \n",
      " 888   888   888   .oP\"888   888888.    888ooo888     888    888   \n",
      " 888   888   888  d8(  888   888 `88b.  888    .o     888    888 . \n",
      "o888o o888o o888o `Y888\"\"8o o888o o888o `Y8bod8P'    o888o   \"888\" \n",
      "                                                                   \n",
      "                                                                   \n",
      "                                                                   \n",
      "      .o8                         .o8       oooo                \n",
      "     \"888                        \"888       `888                \n",
      " .oooo888   .ooooo.  oooo  oooo   888oooo.   888   .ooooo.      \n",
      "d88' `888  d88' `88b `888  `888   d88' `88b  888  d88' `88b     \n",
      "888   888  888   888  888   888   888   888  888  888ooo888     \n",
      "888   888  888   888  888   888   888   888  888  888    .o .o. \n",
      "`Y8bod88P\" `Y8bod8P'  `V88V\"V8P'  `Y8bod8P' o888o `Y8bod8P' Y8P \n",
      "                                                                \n",
      "                                                                \n",
      "                                                                \n",
      "\u001b[0m\n"
     ]
    }
   ],
   "source": [
    "wheretogo()"
   ]
  },
  {
   "cell_type": "code",
   "execution_count": null,
   "metadata": {},
   "outputs": [],
   "source": []
  }
 ],
 "metadata": {
  "kernelspec": {
   "display_name": "Python 3",
   "language": "python",
   "name": "python3"
  },
  "language_info": {
   "codemirror_mode": {
    "name": "ipython",
    "version": 3
   },
   "file_extension": ".py",
   "mimetype": "text/x-python",
   "name": "python",
   "nbconvert_exporter": "python",
   "pygments_lexer": "ipython3",
   "version": "3.8.5"
  }
 },
 "nbformat": 4,
 "nbformat_minor": 4
}
